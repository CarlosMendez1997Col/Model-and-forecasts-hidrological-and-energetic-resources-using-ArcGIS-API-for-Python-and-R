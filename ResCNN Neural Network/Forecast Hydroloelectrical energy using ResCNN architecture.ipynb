# Forecast Hydroloelectrical power energy using ResCNN architecture

## introduction and access to data

%matplotlib inline
import matplotlib.pyplot as plt
from pandas.plotting import autocorrelation_plot as aplot

import numpy as np
import pandas as pd
import math
from datetime import datetime as dt
from IPython.display import Image, HTML

from sklearn.model_selection import train_test_split

from arcgis.gis import GIS
from arcgis.learn import TimeSeriesModel, prepare_tabulardata
from arcgis.features import FeatureLayer, FeatureLayerCollection
